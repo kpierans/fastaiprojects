{
 "cells": [
  {
   "cell_type": "markdown",
   "metadata": {},
   "source": [
    "# Table of Contents\n",
    " <p><div class=\"lev1 toc-item\"><a href=\"#Linear-Regression-problem\" data-toc-modified-id=\"Linear-Regression-problem-1\"><span class=\"toc-item-num\">1&nbsp;&nbsp;</span>Linear Regression problem</a></div><div class=\"lev1 toc-item\"><a href=\"#Gradient-Descent\" data-toc-modified-id=\"Gradient-Descent-2\"><span class=\"toc-item-num\">2&nbsp;&nbsp;</span>Gradient Descent</a></div><div class=\"lev1 toc-item\"><a href=\"#Gradient-Descent---Classification\" data-toc-modified-id=\"Gradient-Descent---Classification-3\"><span class=\"toc-item-num\">3&nbsp;&nbsp;</span>Gradient Descent - Classification</a></div><div class=\"lev1 toc-item\"><a href=\"#Gradient-descent-with-numpy\" data-toc-modified-id=\"Gradient-descent-with-numpy-4\"><span class=\"toc-item-num\">4&nbsp;&nbsp;</span>Gradient descent with numpy</a></div>"
   ]
  },
  {
   "cell_type": "code",
   "execution_count": 1,
   "metadata": {},
   "outputs": [],
   "source": [
    "%matplotlib inline\n",
    "from fastai.learner import *"
   ]
  },
  {
   "cell_type": "markdown",
   "metadata": {},
   "source": [
    "In this part of the lecture we explain Stochastic Gradient Descent (SGD) which is an **optimization** method commonly used in neural networks. We will illustrate the concepts with concrete examples."
   ]
  },
  {
   "cell_type": "markdown",
   "metadata": {},
   "source": [
    "#  Linear Regression problem"
   ]
  },
  {
   "cell_type": "markdown",
   "metadata": {},
   "source": [
    "The goal of linear regression is to fit a line to a set of points."
   ]
  },
  {
   "cell_type": "code",
   "execution_count": 6,
   "metadata": {},
   "outputs": [],
   "source": [
    "# Here we generate some fake data\n",
    "def lin(a,b,x): return a*x+b\n",
    "\n",
    "def gen_fake_data(n, a, b):\n",
    "    x = s = np.random.uniform(0,1,n) \n",
    "    y = lin(a,b,x) + 0.1 * np.random.normal(0,3,n)\n",
    "    return x, y\n",
    "\n",
    "x, y = gen_fake_data(50, 3., 8.)"
   ]
  },
  {
   "cell_type": "code",
   "execution_count": null,
   "metadata": {},
   "outputs": [
    {
     "data": {
      "image/png": "[encoded data removed]",
      "text/plain": [
       "<matplotlib.figure.Figure at 0x7f8f91c22e10>"
      ]
     },
     "metadata": {},
     "output_type": "display_data"
    }
   ],
   "source": [
    "plt.scatter(x,y, s=8); plt.xlabel(\"x\"); plt.ylabel(\"y\"); "
   ]
  },
  {
   "cell_type": "markdown",
   "metadata": {},
   "source": [
    "You want to find **parameters** (weights) $a$ and $b$ such that you minimize the *error* between the points and the line $a\\cdot x + b$. Note that here $a$ and $b$ are unknown. For a regression problem the most common *error function* or *loss function* is the **mean squared error**. "
   ]
  },
  {
   "cell_type": "code",
   "execution_count": 11,
   "metadata": {},
   "outputs": [],
   "source": [
    "def mse(y_hat, y): return ((y_hat - y) ** 2).mean()"
   ]
  },
  {
   "cell_type": "markdown",
   "metadata": {},
   "source": [
    "Suppose we believe $a = 10$ and $b = 5$ then we can compute `y_hat` which is our *prediction* and then compute our error."
   ]
  },
  {
   "cell_type": "code",
   "execution_count": null,
   "metadata": {},
   "outputs": [
    {
     "data": {
      "text/plain": [
       "4.1001300495563058"
      ]
     },
     "execution_count": null,
     "metadata": {},
     "output_type": "execute_result"
    }
   ],
   "source": [
    "y_hat = lin(10,5,x)\n",
    "mse(y_hat, y)"
   ]
  },
  {
   "cell_type": "code",
   "execution_count": 9,
   "metadata": {},
   "outputs": [],
   "source": [
    "def mse_loss(a, b, x, y): return mse(lin(a,b,x), y)"
   ]
  },
  {
   "cell_type": "code",
   "execution_count": null,
   "metadata": {},
   "outputs": [
    {
     "data": {
      "text/plain": [
       "4.1001300495563058"
      ]
     },
     "execution_count": null,
     "metadata": {},
     "output_type": "execute_result"
    }
   ],
   "source": [
    "mse_loss(10, 5, x, y)"
   ]
  },
  {
   "cell_type": "markdown",
   "metadata": {},
   "source": [
    "So far we have specified the *model* (linear regression) and the *evaluation criteria* (or *loss function*). Now we need to handle *optimization*; that is, how do we find the best values for $a$ and $b$? How do we find the best *fitting* linear regression."
   ]
  },
  {
   "cell_type": "markdown",
   "metadata": {},
   "source": [
    "# Gradient Descent"
   ]
  },
  {
   "cell_type": "markdown",
   "metadata": {},
   "source": [
    "For a fixed dataset $x$ and $y$ `mse_loss(a,b)` is a function of $a$ and $b$. We would like to find the values of $a$ and $b$ that minimize that function.\n",
    "\n",
    "**Gradient descent** is an algorithm that minimizes functions. Given a function defined by a set of parameters, gradient descent starts with an initial set of parameter values and iteratively moves toward a set of parameter values that minimize the function. This iterative minimization is achieved by taking steps in the negative direction of the function gradient.\n",
    "\n",
    "Here is gradient descent implemented in [PyTorch](http://pytorch.org/)."
   ]
  },
  {
   "cell_type": "code",
   "execution_count": null,
   "metadata": {},
   "outputs": [
    {
     "data": {
      "text/plain": [
       "((10000,), (10000,))"
      ]
     },
     "execution_count": null,
     "metadata": {},
     "output_type": "execute_result"
    }
   ],
   "source": [
    "# generate some more data\n",
    "x, y = gen_fake_data(10000, 3., 8.)\n",
    "x.shape, y.shape"
   ]
  },
  {
   "cell_type": "code",
   "execution_count": null,
   "metadata": {},
   "outputs": [],
   "source": [
    "x,y = V(x),V(y)"
   ]
  },
  {
   "cell_type": "code",
   "execution_count": null,
   "metadata": {},
   "outputs": [
    {
     "data": {
      "text/plain": [
       "(Variable containing:\n",
       " 1.00000e-02 *\n",
       "   2.9873\n",
       " [torch.FloatTensor of size 1], Variable containing:\n",
       "  0.1116\n",
       " [torch.FloatTensor of size 1])"
      ]
     },
     "execution_count": null,
     "metadata": {},
     "output_type": "execute_result"
    }
   ],
   "source": [
    "# Create random weights a and b, and wrap them in Variables.\n",
    "a = V(np.random.randn(1), requires_grad=True)\n",
    "b = V(np.random.randn(1), requires_grad=True)\n",
    "a,b"
   ]
  },
  {
   "cell_type": "code",
   "execution_count": null,
   "metadata": {},
   "outputs": [
    {
     "name": "stdout",
     "output_type": "stream",
     "text": [
      "89.19391632080078\n",
      "0.6885505318641663\n",
      "0.11982045322656631\n",
      "0.11007291823625565\n",
      "0.10528462380170822\n",
      "0.10161882638931274\n",
      "0.09879907965660095\n",
      "0.09662991762161255\n",
      "0.09496115148067474\n",
      "0.09367774426937103\n"
     ]
    }
   ],
   "source": [
    "learning_rate = 1e-3\n",
    "for t in range(10000):\n",
    "    # Forward pass: compute predicted y using operations on Variables\n",
    "    loss = mse_loss(a,b,x,y)\n",
    "    if t % 1000 == 0: print(loss.data[0])\n",
    "    \n",
    "    # Computes the gradient of loss with respect to all Variables with requires_grad=True.\n",
    "    # After this call a.grad and b.grad will be Variables holding the gradient\n",
    "    # of the loss with respect to a and b respectively\n",
    "    loss.backward()\n",
    "    \n",
    "    # Update a and b using gradient descent; a.data and b.data are Tensors,\n",
    "    # a.grad and b.grad are Variables and a.grad.data and b.grad.data are Tensors\n",
    "    a.data -= learning_rate * a.grad.data\n",
    "    b.data -= learning_rate * b.grad.data\n",
    "    \n",
    "    # Zero the gradients\n",
    "    a.grad.data.zero_()\n",
    "    b.grad.data.zero_()    "
   ]
  },
  {
   "cell_type": "markdown",
   "metadata": {},
   "source": [
    "Nearly all of deep learning is powered by one very important algorithm: **stochastic gradient descent (SGD)**. SGD can be seeing as an approximation of **gradient descent** (GD). In GD you have to run through *all* the samples in your training set to do a single itaration. In SGD you use *only one* or *a subset*  of training samples to do the update for a parameter in a particular iteration. The subset use in every iteration is called a **batch** or **minibatch**."
   ]
  },
  {
   "cell_type": "markdown",
   "metadata": {},
   "source": [
    "# Gradient Descent - Classification"
   ]
  },
  {
   "cell_type": "markdown",
   "metadata": {},
   "source": [
    "For a fixed dataset $x$ and $y$ `mse_loss(a,b)` is a function of $a$ and $b$. We would like to find the values of $a$ and $b$ that minimize that function.\n",
    "\n",
    "**Gradient descent** is an algorithm that minimizes functions. Given a function defined by a set of parameters, gradient descent starts with an initial set of parameter values and iteratively moves toward a set of parameter values that minimize the function. This iterative minimization is achieved by taking steps in the negative direction of the function gradient.\n",
    "\n",
    "Here is gradient descent implemented in [PyTorch](http://pytorch.org/)."
   ]
  },
  {
   "cell_type": "code",
   "execution_count": 4,
   "metadata": {},
   "outputs": [],
   "source": [
    "def gen_fake_data2(n, a, b):\n",
    "    x = s = np.random.uniform(0,1,n) \n",
    "    y = lin(a,b,x) + 0.1 * np.random.normal(0,3,n)\n",
    "    return x, np.where(y>10, 1, 0).astype(np.float32)"
   ]
  },
  {
   "cell_type": "code",
   "execution_count": null,
   "metadata": {},
   "outputs": [],
   "source": [
    "x,y = gen_fake_data2(10000, 3., 8.)\n",
    "x,y = V(x),V(y)"
   ]
  },
  {
   "cell_type": "code",
   "execution_count": null,
   "metadata": {},
   "outputs": [],
   "source": [
    "def nll(y_hat, y):\n",
    "    y_hat = torch.clamp(y_hat, 1e-5, 1-1e-5)\n",
    "    return (y*y_hat.log() + (1-y)*(1-y_hat).log()).mean()"
   ]
  },
  {
   "cell_type": "code",
   "execution_count": null,
   "metadata": {},
   "outputs": [],
   "source": [
    "a = V(np.random.randn(1), requires_grad=True)\n",
    "b = V(np.random.randn(1), requires_grad=True)"
   ]
  },
  {
   "cell_type": "code",
   "execution_count": null,
   "metadata": {},
   "outputs": [
    {
     "ename": "RuntimeError",
     "evalue": "bool value of Variable objects containing non-empty torch.ByteTensor is ambiguous",
     "output_type": "error",
     "traceback": [
      "\u001b[0;31m---------------------------------------------------------------------------\u001b[0m",
      "\u001b[0;31mAttributeError\u001b[0m                            Traceback (most recent call last)",
      "\u001b[0;32m~/anaconda3/lib/python3.6/site-packages/numpy/core/fromnumeric.py\u001b[0m in \u001b[0;36m_wrapfunc\u001b[0;34m(obj, method, *args, **kwds)\u001b[0m\n\u001b[1;32m     56\u001b[0m     \u001b[0;32mtry\u001b[0m\u001b[0;34m:\u001b[0m\u001b[0;34m\u001b[0m\u001b[0m\n\u001b[0;32m---> 57\u001b[0;31m         \u001b[0;32mreturn\u001b[0m \u001b[0mgetattr\u001b[0m\u001b[0;34m(\u001b[0m\u001b[0mobj\u001b[0m\u001b[0;34m,\u001b[0m \u001b[0mmethod\u001b[0m\u001b[0;34m)\u001b[0m\u001b[0;34m(\u001b[0m\u001b[0;34m*\u001b[0m\u001b[0margs\u001b[0m\u001b[0;34m,\u001b[0m \u001b[0;34m**\u001b[0m\u001b[0mkwds\u001b[0m\u001b[0;34m)\u001b[0m\u001b[0;34m\u001b[0m\u001b[0m\n\u001b[0m\u001b[1;32m     58\u001b[0m \u001b[0;34m\u001b[0m\u001b[0m\n",
      "\u001b[0;32m~/anaconda3/lib/python3.6/site-packages/torch/autograd/variable.py\u001b[0m in \u001b[0;36m__getattr__\u001b[0;34m(self, name)\u001b[0m\n\u001b[1;32m     64\u001b[0m             \u001b[0;32mreturn\u001b[0m \u001b[0mgetattr\u001b[0m\u001b[0;34m(\u001b[0m\u001b[0mself\u001b[0m\u001b[0;34m.\u001b[0m\u001b[0mdata\u001b[0m\u001b[0;34m,\u001b[0m \u001b[0mname\u001b[0m\u001b[0;34m)\u001b[0m\u001b[0;34m\u001b[0m\u001b[0m\n\u001b[0;32m---> 65\u001b[0;31m         \u001b[0;32mreturn\u001b[0m \u001b[0mobject\u001b[0m\u001b[0;34m.\u001b[0m\u001b[0m__getattribute__\u001b[0m\u001b[0;34m(\u001b[0m\u001b[0mself\u001b[0m\u001b[0;34m,\u001b[0m \u001b[0mname\u001b[0m\u001b[0;34m)\u001b[0m\u001b[0;34m\u001b[0m\u001b[0m\n\u001b[0m\u001b[1;32m     66\u001b[0m \u001b[0;34m\u001b[0m\u001b[0m\n",
      "\u001b[0;31mAttributeError\u001b[0m: 'Variable' object has no attribute 'clip'",
      "\nDuring handling of the above exception, another exception occurred:\n",
      "\u001b[0;31mRuntimeError\u001b[0m                              Traceback (most recent call last)",
      "\u001b[0;32m<ipython-input-67-b1668cd3a12f>\u001b[0m in \u001b[0;36m<module>\u001b[0;34m()\u001b[0m\n\u001b[1;32m      3\u001b[0m     \u001b[0mp\u001b[0m \u001b[0;34m=\u001b[0m \u001b[0;34m(\u001b[0m\u001b[0;34m-\u001b[0m\u001b[0mlin\u001b[0m\u001b[0;34m(\u001b[0m\u001b[0ma\u001b[0m\u001b[0;34m,\u001b[0m\u001b[0mb\u001b[0m\u001b[0;34m,\u001b[0m\u001b[0mx\u001b[0m\u001b[0;34m)\u001b[0m\u001b[0;34m)\u001b[0m\u001b[0;34m.\u001b[0m\u001b[0mexp\u001b[0m\u001b[0;34m(\u001b[0m\u001b[0;34m)\u001b[0m\u001b[0;34m\u001b[0m\u001b[0m\n\u001b[1;32m      4\u001b[0m     \u001b[0my_hat\u001b[0m \u001b[0;34m=\u001b[0m \u001b[0;36m1\u001b[0m\u001b[0;34m/\u001b[0m\u001b[0;34m(\u001b[0m\u001b[0;36m1\u001b[0m\u001b[0;34m+\u001b[0m\u001b[0mp\u001b[0m\u001b[0;34m)\u001b[0m\u001b[0;34m\u001b[0m\u001b[0m\n\u001b[0;32m----> 5\u001b[0;31m     \u001b[0mloss\u001b[0m \u001b[0;34m=\u001b[0m \u001b[0mnll\u001b[0m\u001b[0;34m(\u001b[0m\u001b[0my_hat\u001b[0m\u001b[0;34m,\u001b[0m\u001b[0my\u001b[0m\u001b[0;34m)\u001b[0m\u001b[0;34m\u001b[0m\u001b[0m\n\u001b[0m\u001b[1;32m      6\u001b[0m     \u001b[0;32mif\u001b[0m \u001b[0mt\u001b[0m \u001b[0;34m%\u001b[0m \u001b[0;36m1000\u001b[0m \u001b[0;34m==\u001b[0m \u001b[0;36m0\u001b[0m\u001b[0;34m:\u001b[0m\u001b[0;34m\u001b[0m\u001b[0m\n\u001b[1;32m      7\u001b[0m         \u001b[0mprint\u001b[0m\u001b[0;34m(\u001b[0m\u001b[0mloss\u001b[0m\u001b[0;34m.\u001b[0m\u001b[0mdata\u001b[0m\u001b[0;34m[\u001b[0m\u001b[0;36m0\u001b[0m\u001b[0;34m]\u001b[0m\u001b[0;34m,\u001b[0m \u001b[0mnp\u001b[0m\u001b[0;34m.\u001b[0m\u001b[0mmean\u001b[0m\u001b[0;34m(\u001b[0m\u001b[0mto_np\u001b[0m\u001b[0;34m(\u001b[0m\u001b[0my\u001b[0m\u001b[0;34m)\u001b[0m\u001b[0;34m==\u001b[0m\u001b[0;34m(\u001b[0m\u001b[0mto_np\u001b[0m\u001b[0;34m(\u001b[0m\u001b[0my_hat\u001b[0m\u001b[0;34m)\u001b[0m\u001b[0;34m>\u001b[0m\u001b[0;36m0.5\u001b[0m\u001b[0;34m)\u001b[0m\u001b[0;34m)\u001b[0m\u001b[0;34m)\u001b[0m\u001b[0;34m\u001b[0m\u001b[0m\n",
      "\u001b[0;32m<ipython-input-64-fbf65a879f37>\u001b[0m in \u001b[0;36mnll\u001b[0;34m(y_hat, y)\u001b[0m\n\u001b[1;32m      1\u001b[0m \u001b[0;32mdef\u001b[0m \u001b[0mnll\u001b[0m\u001b[0;34m(\u001b[0m\u001b[0my_hat\u001b[0m\u001b[0;34m,\u001b[0m \u001b[0my\u001b[0m\u001b[0;34m)\u001b[0m\u001b[0;34m:\u001b[0m\u001b[0;34m\u001b[0m\u001b[0m\n\u001b[0;32m----> 2\u001b[0;31m     \u001b[0my_hat\u001b[0m \u001b[0;34m=\u001b[0m \u001b[0mnp\u001b[0m\u001b[0;34m.\u001b[0m\u001b[0mclip\u001b[0m\u001b[0;34m(\u001b[0m\u001b[0my_hat\u001b[0m\u001b[0;34m,\u001b[0m \u001b[0;36m1e-5\u001b[0m\u001b[0;34m,\u001b[0m \u001b[0;36m1\u001b[0m\u001b[0;34m-\u001b[0m\u001b[0;36m1e-5\u001b[0m\u001b[0;34m)\u001b[0m\u001b[0;34m\u001b[0m\u001b[0m\n\u001b[0m\u001b[1;32m      3\u001b[0m     \u001b[0;32mreturn\u001b[0m \u001b[0;34m(\u001b[0m\u001b[0my\u001b[0m\u001b[0;34m*\u001b[0m\u001b[0my_hat\u001b[0m\u001b[0;34m.\u001b[0m\u001b[0mlog\u001b[0m\u001b[0;34m(\u001b[0m\u001b[0;34m)\u001b[0m \u001b[0;34m+\u001b[0m \u001b[0;34m(\u001b[0m\u001b[0;36m1\u001b[0m\u001b[0;34m-\u001b[0m\u001b[0my\u001b[0m\u001b[0;34m)\u001b[0m\u001b[0;34m*\u001b[0m\u001b[0;34m(\u001b[0m\u001b[0;36m1\u001b[0m\u001b[0;34m-\u001b[0m\u001b[0my_hat\u001b[0m\u001b[0;34m)\u001b[0m\u001b[0;34m.\u001b[0m\u001b[0mlog\u001b[0m\u001b[0;34m(\u001b[0m\u001b[0;34m)\u001b[0m\u001b[0;34m)\u001b[0m\u001b[0;34m.\u001b[0m\u001b[0mmean\u001b[0m\u001b[0;34m(\u001b[0m\u001b[0;34m)\u001b[0m\u001b[0;34m\u001b[0m\u001b[0m\n",
      "\u001b[0;32m~/anaconda3/lib/python3.6/site-packages/numpy/core/fromnumeric.py\u001b[0m in \u001b[0;36mclip\u001b[0;34m(a, a_min, a_max, out)\u001b[0m\n\u001b[1;32m   1705\u001b[0m \u001b[0;34m\u001b[0m\u001b[0m\n\u001b[1;32m   1706\u001b[0m     \"\"\"\n\u001b[0;32m-> 1707\u001b[0;31m     \u001b[0;32mreturn\u001b[0m \u001b[0m_wrapfunc\u001b[0m\u001b[0;34m(\u001b[0m\u001b[0ma\u001b[0m\u001b[0;34m,\u001b[0m \u001b[0;34m'clip'\u001b[0m\u001b[0;34m,\u001b[0m \u001b[0ma_min\u001b[0m\u001b[0;34m,\u001b[0m \u001b[0ma_max\u001b[0m\u001b[0;34m,\u001b[0m \u001b[0mout\u001b[0m\u001b[0;34m=\u001b[0m\u001b[0mout\u001b[0m\u001b[0;34m)\u001b[0m\u001b[0;34m\u001b[0m\u001b[0m\n\u001b[0m\u001b[1;32m   1708\u001b[0m \u001b[0;34m\u001b[0m\u001b[0m\n\u001b[1;32m   1709\u001b[0m \u001b[0;34m\u001b[0m\u001b[0m\n",
      "\u001b[0;32m~/anaconda3/lib/python3.6/site-packages/numpy/core/fromnumeric.py\u001b[0m in \u001b[0;36m_wrapfunc\u001b[0;34m(obj, method, *args, **kwds)\u001b[0m\n\u001b[1;32m     65\u001b[0m     \u001b[0;31m# a downstream library like 'pandas'.\u001b[0m\u001b[0;34m\u001b[0m\u001b[0;34m\u001b[0m\u001b[0m\n\u001b[1;32m     66\u001b[0m     \u001b[0;32mexcept\u001b[0m \u001b[0;34m(\u001b[0m\u001b[0mAttributeError\u001b[0m\u001b[0;34m,\u001b[0m \u001b[0mTypeError\u001b[0m\u001b[0;34m)\u001b[0m\u001b[0;34m:\u001b[0m\u001b[0;34m\u001b[0m\u001b[0m\n\u001b[0;32m---> 67\u001b[0;31m         \u001b[0;32mreturn\u001b[0m \u001b[0m_wrapit\u001b[0m\u001b[0;34m(\u001b[0m\u001b[0mobj\u001b[0m\u001b[0;34m,\u001b[0m \u001b[0mmethod\u001b[0m\u001b[0;34m,\u001b[0m \u001b[0;34m*\u001b[0m\u001b[0margs\u001b[0m\u001b[0;34m,\u001b[0m \u001b[0;34m**\u001b[0m\u001b[0mkwds\u001b[0m\u001b[0;34m)\u001b[0m\u001b[0;34m\u001b[0m\u001b[0m\n\u001b[0m\u001b[1;32m     68\u001b[0m \u001b[0;34m\u001b[0m\u001b[0m\n\u001b[1;32m     69\u001b[0m \u001b[0;34m\u001b[0m\u001b[0m\n",
      "\u001b[0;32m~/anaconda3/lib/python3.6/site-packages/numpy/core/fromnumeric.py\u001b[0m in \u001b[0;36m_wrapit\u001b[0;34m(obj, method, *args, **kwds)\u001b[0m\n\u001b[1;32m     45\u001b[0m     \u001b[0;32mexcept\u001b[0m \u001b[0mAttributeError\u001b[0m\u001b[0;34m:\u001b[0m\u001b[0;34m\u001b[0m\u001b[0m\n\u001b[1;32m     46\u001b[0m         \u001b[0mwrap\u001b[0m \u001b[0;34m=\u001b[0m \u001b[0;32mNone\u001b[0m\u001b[0;34m\u001b[0m\u001b[0m\n\u001b[0;32m---> 47\u001b[0;31m     \u001b[0mresult\u001b[0m \u001b[0;34m=\u001b[0m \u001b[0mgetattr\u001b[0m\u001b[0;34m(\u001b[0m\u001b[0masarray\u001b[0m\u001b[0;34m(\u001b[0m\u001b[0mobj\u001b[0m\u001b[0;34m)\u001b[0m\u001b[0;34m,\u001b[0m \u001b[0mmethod\u001b[0m\u001b[0;34m)\u001b[0m\u001b[0;34m(\u001b[0m\u001b[0;34m*\u001b[0m\u001b[0margs\u001b[0m\u001b[0;34m,\u001b[0m \u001b[0;34m**\u001b[0m\u001b[0mkwds\u001b[0m\u001b[0;34m)\u001b[0m\u001b[0;34m\u001b[0m\u001b[0m\n\u001b[0m\u001b[1;32m     48\u001b[0m     \u001b[0;32mif\u001b[0m \u001b[0mwrap\u001b[0m\u001b[0;34m:\u001b[0m\u001b[0;34m\u001b[0m\u001b[0m\n\u001b[1;32m     49\u001b[0m         \u001b[0;32mif\u001b[0m \u001b[0;32mnot\u001b[0m \u001b[0misinstance\u001b[0m\u001b[0;34m(\u001b[0m\u001b[0mresult\u001b[0m\u001b[0;34m,\u001b[0m \u001b[0mmu\u001b[0m\u001b[0;34m.\u001b[0m\u001b[0mndarray\u001b[0m\u001b[0;34m)\u001b[0m\u001b[0;34m:\u001b[0m\u001b[0;34m\u001b[0m\u001b[0m\n",
      "\u001b[0;32m~/anaconda3/lib/python3.6/site-packages/torch/autograd/variable.py\u001b[0m in \u001b[0;36m__bool__\u001b[0;34m(self)\u001b[0m\n\u001b[1;32m    121\u001b[0m             \u001b[0;32mreturn\u001b[0m \u001b[0;32mFalse\u001b[0m\u001b[0;34m\u001b[0m\u001b[0m\n\u001b[1;32m    122\u001b[0m         raise RuntimeError(\"bool value of Variable objects containing non-empty \" +\n\u001b[0;32m--> 123\u001b[0;31m                            torch.typename(self.data) + \" is ambiguous\")\n\u001b[0m\u001b[1;32m    124\u001b[0m \u001b[0;34m\u001b[0m\u001b[0m\n\u001b[1;32m    125\u001b[0m     \u001b[0m__nonzero__\u001b[0m \u001b[0;34m=\u001b[0m \u001b[0m__bool__\u001b[0m\u001b[0;34m\u001b[0m\u001b[0m\n",
      "\u001b[0;31mRuntimeError\u001b[0m: bool value of Variable objects containing non-empty torch.ByteTensor is ambiguous"
     ]
    }
   ],
   "source": [
    "learning_rate = 1e-2\n",
    "for t in range(3000):\n",
    "    p = (-lin(a,b,x)).exp()\n",
    "    y_hat = 1/(1+p)\n",
    "    loss = nll(y_hat,y)\n",
    "    if t % 1000 == 0:\n",
    "        print(loss.data[0], np.mean(to_np(y)==(to_np(y_hat)>0.5)))\n",
    "#         print(y_hat)\n",
    "    \n",
    "    loss.backward()\n",
    "    a.data -= learning_rate * a.grad.data\n",
    "    b.data -= learning_rate * b.grad.data\n",
    "    a.grad.data.zero_()\n",
    "    b.grad.data.zero_()    "
   ]
  },
  {
   "cell_type": "markdown",
   "metadata": {},
   "source": [
    "Nearly all of deep learning is powered by one very important algorithm: **stochastic gradient descent (SGD)**. SGD can be seeing as an approximation of **gradient descent** (GD). In GD you have to run through *all* the samples in your training set to do a single itaration. In SGD you use *only one* or *a subset*  of training samples to do the update for a parameter in a particular iteration. The subset use in every iteration is called a **batch** or **minibatch**."
   ]
  },
  {
   "cell_type": "markdown",
   "metadata": {},
   "source": [
    "# Gradient descent with numpy"
   ]
  },
  {
   "cell_type": "code",
   "execution_count": 2,
   "metadata": {},
   "outputs": [],
   "source": [
    "from matplotlib import rcParams, animation, rc\n",
    "from ipywidgets import interact, interactive, fixed\n",
    "from ipywidgets.widgets import *\n",
    "rc('animation', html='html5')\n",
    "rcParams['figure.figsize'] = 3, 3"
   ]
  },
  {
   "cell_type": "code",
   "execution_count": 7,
   "metadata": {},
   "outputs": [],
   "source": [
    "x, y = gen_fake_data(50, 3., 8.)"
   ]
  },
  {
   "cell_type": "code",
   "execution_count": 12,
   "metadata": {},
   "outputs": [
    {
     "data": {
      "text/plain": [
       "87.22571017008895"
      ]
     },
     "execution_count": 12,
     "metadata": {},
     "output_type": "execute_result"
    }
   ],
   "source": [
    "a_guess,b_guess = -1., 1.\n",
    "mse_loss(a_guess, b_guess, x, y)"
   ]
  },
  {
   "cell_type": "code",
   "execution_count": 13,
   "metadata": {},
   "outputs": [],
   "source": [
    "lr=0.01\n",
    "def upd():\n",
    "    global a_guess, b_guess\n",
    "    y_pred = lin(a_guess, b_guess, x)\n",
    "    dydb = 2 * (y_pred - y)\n",
    "    dyda = x*dydb\n",
    "    a_guess -= lr*dyda.mean()\n",
    "    b_guess -= lr*dydb.mean()"
   ]
  },
  {
   "cell_type": "code",
   "execution_count": 14,
   "metadata": {},
   "outputs": [
    {
     "data": {
      "text/html": [
       "<video width=\"500\" height=\"400\" controls autoplay loop>\n",
       "  <source type=\"video/mp4\" src=\"data:video/mp4;base64,AAAAHGZ0eXBNNFYgAAACAGlzb21pc28yYXZjMQAAAAhmcmVlAABFdG1kYXQAAAKhBgX//53cRem9\n",
       "5tlIt5Ys2CDZI+7veDI2NCAtIGNvcmUgMTUyIC0gSC4yNjQvTVBFRy00IEFWQyBjb2RlYyAtIENv\n",
       "cHlsZWZ0IDIwMDMtMjAxNyAtIGh0dHA6Ly93d3cudmlkZW9sYW4ub3JnL3gyNjQuaHRtbCAtIG9w\n",
       "dGlvbnM6IGNhYmFjPTEgcmVmPTMgZGVibG9jaz0xOjA6MCBhbmFseXNlPTB4MzoweDExMyBtZT1o\n",
       "ZXggc3VibWU9NyBwc3k9MSBwc3lfcmQ9MS4wMDowLjAwIG1peGVkX3JlZj0xIG1lX3JhbmdlPTE2\n",
       "IGNocm9tYV9tZT0xIHRyZWxsaXM9MSA4eDhkY3Q9MSBjcW09MCBkZWFkem9uZT0yMSwxMSBmYXN0\n",
       "X3Bza2lwPTEgY2hyb21hX3FwX29mZnNldD0tMiB0aHJlYWRzPTEyIGxvb2thaGVhZF90aHJlYWRz\n",
       "PTIgc2xpY2VkX3RocmVhZHM9MCBucj0wIGRlY2ltYXRlPTEgaW50ZXJsYWNlZD0wIGJsdXJheV9j\n",
       "b21wYXQ9MCBjb25zdHJhaW5lZF9pbnRyYT0wIGJmcmFtZXM9MyBiX3B5cmFtaWQ9MiBiX2FkYXB0\n",
       "PTEgYl9iaWFzPTAgZGlyZWN0PTEgd2VpZ2h0Yj0xIG9wZW5fZ29wPTAgd2VpZ2h0cD0yIGtleWlu\n",
       "dD0yNTAga2V5aW50X21pbj0xMCBzY2VuZWN1dD00MCBpbnRyYV9yZWZyZXNoPTAgcmNfbG9va2Fo\n",
       "ZWFkPTQwIHJjPWNyZiBtYnRyZWU9MSBjcmY9MjMuMCBxY29tcD0wLjYwIHFwbWluPTAgcXBtYXg9\n",
       "NjkgcXBzdGVwPTQgaXBfcmF0aW89MS40MCBhcT0xOjEuMDAAgAAAHKpliIQAEP/+94G/MstfIrrJ\n",
       "cfnnfSyszzzkPHJdia640AAAAwAAAwJ0xbLud10Nph2AAAK0hX4cjn4AE/FtPxioFO1HY3JRoRY7\n",
       "ywb2QhlaFeV+Y+9kCNpGp6uXtl6jCqsjqB5IctfwBz2Q3jrhlNqOZcgr226y3H93i5sAVU1CUbA4\n",
       "d1tVyED5yl/hac+7uO3PeQdrb2F7GHhtQi3qwvanFcyhOGYErmfBp8H3XGv0hUs33FHvhCPM92YE\n",
       "nSuUygD2daLTJCEv9SJPmogvvbw6hjn717g9dUpBNnmsKTzpnovLP0kKSfYas3YsIG5lxPVN2G7l\n",
       "mGVpdhphsUnFPYt3+rzhMU1CTIUIz7TfE5gAd61696zzam+8zbCAuDYZFmI71mfWHLEUP3OkG3nT\n",
       "GF/+M5L+VzTTpTyO1tE9TKKPl2keS9uqH7yWX/hVhsK+VfAYIxHCyvkWKLoLO3RgdYdALm6rWwlu\n",
       "RvQ2/OpKVnOzMAaloeVuOqpInfbiTqURP1qYmlY968lmEwCqTooAAj/DWTgZTmNQXFi/9c0S0HPZ\n",
       "lC2hZxBB03FIsUo/t3kxN4vTYYAc8cDK//om8WWMvbAPZrB1TYRnSIc0QhUHVIJBuRMoXWaW1XfY\n",
       "e9fFA5N6SFmpcIVSgwN9jsRpKyfbQKK+wQ09Ezijjm6qmJNBX+/+r1xXNXCMaEw+cf2kECfkq334\n",
       "Tq1wYfoHp5JyyGxNk0o8Nq7Jn4SyQNlbQJruPtdM4vQZRQj75ClBiP44KdX5K0yCmL/idZR/25OT\n",
       "ZqJBwjJvOS3hTQmOukbJM1/mnRWTFnDTJrS0Mt8FmCsjK29pd2mvbPUr8f6h2R/JPjNdElljedBG\n",
       "6T+uPtufgZDpxMYOKPI6NN/P/ah2DURyW7nQ2NKRGhUJJisYzGFqZbQFiMnVxFWAwMrRqtnw7D83\n",
       "pHKJHqHEXQkIL7V9aNDaA9Q+wbSpyLLFZMFICaEEYWuguUyjXdt6DWqoQHYVwlmAFywYEkttdnrN\n",
       "9wCGoDc+jeWFB97s3n6U7lDHf39zIPMVGQBCFjoUY88PesseeTtjEiEDz9PqadOS3VqiBAJXmO71\n",
       "gvyz21iFULuwC0ifVbS0ySDERfrmi19tb9PRtlIrmOcq8aK9lg5wFlagDQt3fUFXGE/PFn2/1h+Z\n",
       "QGNIDvFVoQAldbsPoEG60Bdrv3VlqS61VcEv9I3cYCETSHmN2RemvPP/xVSXcoKxDeBTFe91HkHJ\n",
       "MeeMypgJhB49wCPF4q3I2TqQg4fKy8Uka3uK8B/4M2907e31fjRkf1Y85lnmDtNoFhxiKdCASVVg\n",
       "2WD8Bc2n1cHPexrIw2wevm//AMymiLQOZk5L5pekQpQFW5h1/G5tdaNKJ3Dqn6scqH69dsLUlVn/\n",
       "WVmxrdsqJ1j0nHSLibAu19D2Ue98scSjhun6ml8o27JyN5bXdGHhBl80Yr/1mc0DkY6ncz3JrIXB\n",
       "GbCOe2g6vmLJfOYFCeQhsIWqLJ03osFP1+uqOU0HfmjKY11xET1zuQbMBDJRgnAm/Ozky2EV7l5F\n",
       "uAuyYVEwGpGORNxmQ7KIiRUC4AhRZHbS6D1L0UeeGZiCM+5DypcmF4G5CqnsxACYzUc3+RVe57g5\n",
       "dRVc3bhfHRA9yFrDIBKK6fEegVO86jycAlxztI1JGAV/2IeuWJombR//lCqCHhC7LwfBeMDSFxRv\n",
       "+cYM2aV1sfv9QEwuG6WGEo10bF1tz8BbOBoWsLjq3k7HUblYPJBNc5/jaZRnMTNZDISE2cNTEnBe\n",
       "pWcJ9D7LMlDtUSgwXu4Sc4pm7/iPnWR51qSO9jNeHeVenzBEI2dKi3CGrBxbAmJ5ocdJNO+/3IDJ\n",
       "9s3SB7BEm4Ba/tZ/Ad+KY1EA44bNeg7rzGfxOwahRMmnsos8k4AJQsueQU8Ctex7nTvBt1/Pl4QT\n",
       "4b+qd9ezGhgZWHEWtwcxCtP9PwSnTZOpm3ijDe6BURpQNmuD7sdM8OKPP9mrWwyl84vtGtVaxD7w\n",
       "6b2l1h70n5e90PyGlqoTDm4BO8dUW29P7IIiHoQjC5rHCwnnCFt/9zFHWuVuFKjNh2no/jQ8hO//\n",
       "ppdvesNBgRMmzZknKDE8C7Xrknx6+CuAif29BMtreJEr5T1sH5DDGe1san/apR04rPmi2cYV0HDp\n",
       "jsz3nc4HLYKDa203/oD4Q/3MQM/tWpODSOdLM8n8Csw7ADIteie4MAd2s/oeMOBCDLfu6XzAPdcD\n",
       "8pTt/KVbOh7eNNQLLtCpIn2WzCXEl+C/9jNsMfi/VRQtbnvHQvCWJaRoyjv47TTxypGbbwluiAmj\n",
       "MOOG2A3ZC5OS/0ByOe+RNMquRzSh4krewd7owVF4M9cD/A7ZIT9UKKayEfVEv57RB9y2bngSn4SL\n",
       "6pGjgFLSc5fQpAhL0sK4wqpVjdvpzr8NSAcxlVbFesR9gbyA/Uv4HfcB5SL/KHn0Yrk+z08BZcKx\n",
       "206cwz8vsRPa9HYXACWsoc3o3bP8GTtJ7ulG/mlVIhrh4HpwG/kAABlr9tftQhleS2l55j1kEUHA\n",
       "/h/8Lw8USkdLD6nwaVjqkryTgj3QIyA+RHiO2l7ImKhhBPdYHeNdAAiILTzIM2Akq788Ef1YmL2p\n",
       "omU0PaeF5oVqGQo353NqoGVrPotK9vu+sdTPT718tYJmxduU8FRAFxn1YqK99j/EIiCdjdy9G9+1\n",
       "YLkNBHk+NlWGeba4SzpAu/WsvGQb4ibQzNIKdVwg5cLrzS1EQI0JMLRrqrRihoGewa1c8ywCsAHQ\n",
       "fIG5xkbrGCclGWNvaiheqMS6jh0F6VA+y9U2G+ika16KUYdNl+9d7tN7pc1CmgGtX7cfzMPn26mQ\n",
       "VBG3MS30uoHKi6yF87aR1UWhcrwsijZO0fMIdR9/UHv45RRyeJNmf4VjN7WKVmmv9bslpC0bFoRW\n",
       "mIv80ueikfXZh1zp29eElRGdrmL+6+CPBr0WxkSEVUHe+vAmErcuZKQGqKuWzCBPzgR4lsDbqw0a\n",
       "cyeF66FauIteIihDs5pAzgL8/9NVDKT6xvrmabHfEBE1////8XJEjQhY94IYCHcML6lD2zLe+QZN\n",
       "xIgywseOXzxywLxaDcTLSkyw1/nAkJbHFK96SU+Q+RlFksGHLA1Xw+dTlRQWIqE0sEHNXVA9LS7C\n",
       "W9PaGmz8PWaWL8DXupEUNAe5tz+MIBp/xSjwMo9rNvZPw654sgqPd6xL8xFRT1yl5mwx4K9uZw/1\n",
       "1DgKtC1nLsi8PFRJ3QycRf/NsfUzHKTxlt0HBFSGHRqj5h+GAwQ9KBbNs7dElwFw+aGFamUk3u/4\n",
       "gnyGILf8GjkMsL/hpI68RMppMtZ+MPZQIaGodYvAO4t3iYALsgk+PlrZThtPT0K+E/qXba0GP6oe\n",
       "8jQRzWUBcQXSVDopj+tq//mqBDDw8sQLFWLZoV8LzzathyxBSb0XZwHTnwgr+GJEK8AiFRtjJ3Ij\n",
       "/6tgYh+4nhrL7IdvRAxQ8OgBQ6Lbp4R0hdYEV/ETVx6K4CKhWhOjZenvVBbUxEdK16NqU+AbuQWv\n",
       "RiehycqKltF7Etc0WGz3i9OfN92Fq6XYq78QHdSAl4QYQj1G+UPWnKBPcLo8UVkiix82DTvEqpT3\n",
       "MOz5hMb88AxicmNss5v0U3yY7R7K+eGlEfRNNnmdtGfxlk/LR6Lg2d433qn73e9/HpjeJ9oKDm98\n",
       "8m8JixC/iNnl1c82wtKUae/gABeBM5G/v//3G1ij5AWBH1C8QTL/gcKBiDst17siAmPeLdgb2wQK\n",
       "mTRP3od3Ad92wHs4JuYUH29op0LkGF1ytU7mEbQz8Ho2Oax6Bx2nmBEapoZbdjYxGOMfCWNr1AWe\n",
       "sJT717/g6F+6WU1glrYcYN6b2X4OG6rrXNtI97TPBLZbF5tNRXoNbiqMe10gnEXcsViy2ojjj4jD\n",
       "oekFrwLjnEoxzDB1+Lbm7xMG0Mtyr3pBnImlR5MF4dT+lkVluxh0xunMBAgo3GfBlWcoP+4/EBRV\n",
       "6IbymcFBkwk3ALmWC03ftu2e5ik9Z/WuOpyaDfM707HlItjZEPng77QrDBJVH0aKN3V9GydEqTmB\n",
       "nbfK+myYuSHuiChu5HNL0LAbLe6xKpEFQvZJltaVE5JdExrHR7moSw8vkEp/NzM865gr84rKkHQm\n",
       "HFX2qX140T+87/80c79EKHzjya7oZN9+gcVOez7pzqjrRg90C0KYhBOtAkXk42WCoc+ImKcHW0OV\n",
       "1jVECkeG4Z9RYCU2PuH/qf9wi4lKbicTaZoWtghdlhndMAyPW8k0WVggO8NmdZSDsSFsmurBihe7\n",
       "hqV8mkhomKiNN+jInYLmNmKCgdy2XnBJhm0A+17yKlKCmGiDFDml62f8R1+FrXXH2+4+l7pCXdBp\n",
       "fg7TIKFRtzF2X0EZdGwkI76AxuI4VxkUmjyXDTWmX5p2xOyeMfwoowzj/iY+f59Wb1o63FVmwjX1\n",
       "TtwriG89jSE9UKcAm2powgBWBL3aFbuIyQx7k1y2Is30jBZUtTl+QkO6pfhi4efrd+30r3Yuyyqa\n",
       "E61HEl91UtoxHRR2D03p37KHvLfX8LSyN02DLtVXoiPvQTfK4qn0UwbIsu18Xi7ZwILGBHdknNG7\n",
       "LOmfp6LeBjQQgi5RBls0deMW1UoWcVqRUVe11DTsIzNn8B+k1Z7caEL2ojnEthxm814ScaiQDELd\n",
       "QJfXb9bhEtyLDYcsykR5RfHg2/UmlcY11+hndw+nzAwvLNph6BgTYw0qvSSDR/sFv0nj+l57/1br\n",
       "AvEfP83Q3typio5NlgwSIQyQY7JKlmQveSxqHktZWX8rPubkYk3r+1OK+fx/pmfgDYm9lvRqjAw/\n",
       "yq+OaphTblx+j6sd4E2h6jkp+JqjS+uUKM8XUDE1ZCObxuHtA7dy8ANSGFL+w8MfD4Qg73LutHeA\n",
       "Yaiy7cC/TT4lKV3pdZLHinJukv+9PJ8G8fvWVZ7+iL4MbvNEtB3sCPMtISHpLrpl50spGMgo6NRF\n",
       "4GuI9UDW7C7TieA2wdOPdXCx7lZb9i1gJkkQcqSwzZ9B1mElrMY7xfuBbwwDsBzYyEVTC3dnDd1d\n",
       "QoPjRo/t+1e7yx9iCxIdLwENYdtpXfmmi6ptc94aTuyjlhFpqCzB6m5fmfhqA7lqwxsKzKGiH80d\n",
       "byj3fartEj+z8Hd3B8AEJ0ljSDsmxVymalz/dEBAI/KTJoJ4s58cALcO8eIaFff8EV+4M1Xily8f\n",
       "blr6TpIRaNLF0L/Uz2+JxeH6xsZO+8rM6yKSY0z8IfUUICx/t3WY98fpUwC4ZkKUuG2qruknayFa\n",
       "HDm7hbBnGt4jB6xJSApcSCmQroNE6CufCc11w+hoDxzvle4TTakBy6ZRCacSmne6FjucWSJ7D4EA\n",
       "CnXafbK+3c0aWNi9WXETz7wHUPCCW126CHis36gm6CNX6SbYYLxS8cSgBdmBRblfD+kDk4VptmTJ\n",
       "1y2RBf0JFKAUJ067l+5gNYJ98SUzwfxFLUFW6xzGyJVRJUY9u6UX/7gj7/yrQnzY/+EqWmIZEH6t\n",
       "RIqi0Xpaqynxm6ZWEGDfksWGJi9nd0xOBGSNFjOZhb0SQFQPsVT0qimTjT/ozM+e7lASUQ3bknvY\n",
       "uZu2IrK63D4yhswgzO6HBnbDCTQYZ/r/B84d4OgqVYeUt3w0L2/BQb3Jvf+Mi+wo+3g941Tp4cb8\n",
       "zQarw5KolsQBcHDnKUIKLGAFdSV1lowxLD3ABIsL+VEbslu3lw45jlzHut3Z+kgx6lJdMhlVGl5Y\n",
       "t7pkhZKBJlQ9UDGf+QfQzK2FNlX2+hPzPDc5uCiQxtYJ/IeQ5Nkqw4qph+dzrjCuAn5CM45vInjJ\n",
       "NM4PL8mWy9r8Cuwq1Cr8MWLu5sjWUQK51Yyd4zRRuX4m9i7koe2H2Egf/wFVy8IYFh4S8fw8W3+R\n",
       "xzbTzw5I9NJ+7oPQ7Y+50kgeIVR4VE4cfG7E5yNRrfmdnQJaGAUDfi+tMgesIiU379Hf2lTB+Yr9\n",
       "A4Qz9NTH0U7URuTVOL43G63DZ2s4yVd0OqzCBzAIIqD0wqtaKVOn8JGxxTbjosM2uDnKMqzs2M1W\n",
       "LWnOa8CveNxk0TuK7eRF2MYmXPBIhDBU0Tum37QNRu6zJX4IupobF8mohrXQjO3r/ZF7IQPJE8r/\n",
       "nj48sepdY74QsUU5XSzayssn+LHGR7MkGLPkTW5J/BtCPWBMYwx/MDbMzRXGZsv0nOoGFaLbk83A\n",
       "xx8229w+uzYt9ZsH1o+YBVlDF+gOnRLcraCBAI+gGeqmCiuutfAW7z52Dd0aVU5ELRObrS7qA8Wr\n",
       "Bc/bJcW6PotG4P3t0RkUg+au+yNM+/BBE4eG1KLr0/+Dj073pOkNHT378QCzXNdDXnLLekpCOHm3\n",
       "YqLAqqEoSzSRQ7UX/h8c6YtD2JHTErallanuZdkfLnI+JFBh5dl2R4KSl9DB3+sx0r0hc1aqcogf\n",
       "lVaxAdm0N3OixtsVoA85F/aMN1u9CAL5afqsKiwneKvW7llAPk6sycaEYFKWmwsBNKnJVE5C35ZW\n",
       "ysJ6cJXI87tT2UwaifuaufRWD0du585plW9nbazyu9Pnlfre7NGcizJXT2e72BHM40rxOKRqRM38\n",
       "aUrUqC2edRAPoCE9hmK0vV6tCJaJX/mVN3y9r+xt8OJGvsisZsAc4C3fjpcWlN/+0XYGJ5gyjC/G\n",
       "uQfJphGt/XLXe/WusPx6taEJW1UwgZKbCHJazN/xq0ce4gpXDzprOqv55jn7zBRDg+6y3GW6bgfA\n",
       "zBCIt1xY4AwC1+ADN3k4jsEky6UrXacnr91LcONj+pk7OWhVCGjyMuGgEjGG3p+RLA99pEBW47+F\n",
       "63Ydtmxt5ufdKmK5WECF52vrHHSxxIZyDEmiopo6zatleNmyoOkxCA/0Ajsr17eYTH05JOibkIlN\n",
       "7lJp08upQS91OIzwSesa3fmW/QGz2Sp05/iaojgrIFwXNrBg9d32DyxsybQr3r4D8Bt1gO7x6+OM\n",
       "tw+RjTY9gzwPsMBau0SdbPxF4AkB9eNlHXWhZv4vpxYHS3CLeljy0U0/VkKkWT36KHiu5PWSNTyN\n",
       "Ll2yfNJ7uBSz8JHfuyLVS6nD5XhWiucwt//XRsfbcG43q7I/DzThycoTK6sIEmDym89iLwKzAYnk\n",
       "0scuBIyslN/681K5HCDGNOW/mHFE84+jiKNUXjVXkArtk+UFkfoPHaVWc4MVRbAgr6NIgXAhzDkq\n",
       "XuEU/kHVNUJatYjCOUzFrbppNKY8VpdhMnOr9vC8vtMRk4OPTw5qgnXUaEnV26AWeQ+NkbUAXUCz\n",
       "zXywQEMbDlNrw8PMV6nWJnxcLz6y32aCLwUH/u49DxnFudsqE7E4scDcUOMLcfTAYlRRQTQR/9DE\n",
       "2i+BTdbbuNCTeG/G15mjXAEHjDuhDHo1GIy5N0b8QcOFpwn5KqnP6dJpLYP5V7QidnxlbNhSXn8x\n",
       "GjjTnW/Cz7/SPn6MtSL3e12YF5/+CzNdjD4p9C2fdAy6wmQnuOHW6sSsouuTvejsJCgP6R7Sl4PG\n",
       "IkHGUbFC7TFm+po7+pc3RGnUHG5OFKgZKG/64ZAbAAeu3HOzlhXmL+/54cyX49jkBigzqgI2nbnb\n",
       "HKU920KrbYaIVwbtbI36vwwrC8GNvRr16dHZKiBCOzkIP9Ark5uvfgMgpXWUPiZ66lo70uuqJBrH\n",
       "osBaezYNAZpaSRDD3mGCubxRokW2AACVjEt1hILFtWs+ylilRFLmhC968Ka5kj7QBwxiukPXaSQN\n",
       "vdEubO6f6nQbt7PBloGYNQoTtcQ8LUj+EkQEu6FXR1BWrzI8JokGS/y3p5himndLdZwJx3YUlGhE\n",
       "Ad2ctJ0HZ+0UHnfyP2S8jDuCH+CQSHE7YgA/05J+rHKFC6QWmQPyAH4WpimPX4GCt5enpyTFfJlc\n",
       "dv0aPCoo+4+dy2MPL3rE/zIEp8GRSUzPoBEP4YOo1/3HUAgrEgQcLpTjNFJpAyiR3IcwElKEvIpy\n",
       "KQbQJt+zJ7TtNKFDOonbsg5/cAUewn6+Wkr9PnEXSXrTVSijX8Mm26ul5h4pDAjTCLJTxDyPym1M\n",
       "NPgBRRg25wzvohEwxbWb7SWnT3n1v6KcmWpiJ61H2lVCOqqvC3xGrAUYH6hlpxq0yYvCGe2zkOMy\n",
       "5JfaTIlyFwvKv89RaawRsy+3QMrROdp91dGtP6qUMyyLzUHXXMf8QI7a34ACXR/+85UpnuM/MEqS\n",
       "Fl/BFUxFQZDSzopevNIA531h72jIukgdrxvJAU+Xh+/o9uQvjcAds4HyfJwgc2wRbzMvPKLsmFnF\n",
       "w+1rnygHuchFa0Kw14XWGVhsT8gvJ1zSoX2gNgXUn7tIQOcoqCxt8PsQD27JwuPecowZ2/2GRxtY\n",
       "DmCjPGkstf53pG1t37gSLvq6Gh3BMSjyaQ7tk8HuTZ/6+l2xXthMQbjhKKoYYc8R4ttcgQATSxJ/\n",
       "Rn6VJrQswLOUWrBklV6AZnk3GxgweJwyxUlT26vwGYQlnO1FJQ2w7EwQS2tmZPmmETlNZZ1BQepw\n",
       "PYZ9bQnvNe7w44yhsfgGWUWHn/uta9MU7qa2XmB6EBF5NdZZHxNOkXhmAyX29/CcgYw4J2iL7699\n",
       "++OTNK9gNrwUdPSXgxDiknkK5ssjOgXWSCM5DCBEydOZiAoG4oiRaJDSURX/8Rk6N53OfG3YaZGI\n",
       "87uk1gJ76zBlfbAGKKSG6XEeKDrCwNEGBEllOy1r4ENCC0yuZ7IIrI6eKn36tmT/mWeQKIFoNxTv\n",
       "GGvK0NrSLPBJqsO6XAktH9r/+qwfswrKE22GrmMdZoVQf6HEo4bDntr9EgWRwDb8a3i749EZf+Z1\n",
       "PEpn6Pi50FjdabUts0Fds5QUpt8jhkfJTXLxqCQWf4iWxKqZG9E2EGoq8bChxBlk1m8YpOpI9ZxI\n",
       "5zp8ja7/X1tzJnFHxfMk8tUK6hinbdcC9+bFsAshfpbcZ28ASwZbkTsF0qh/3QQDLAcY8/a7aFKH\n",
       "TyKN4r7/tAc3UtfaypK0TR5zEuyEsykj3zsPkyKM7gjyQjbvR20hNLUQkh8pcOtSYRahipHtnfth\n",
       "1UqtZXdoXCbEED1cZF81j+BMX6mhbyMKxakpP7/ckRG4RuFGLGOnE2IP8+bkhVu5OdYkut/yjqdt\n",
       "27oUcDZlO5f6YimFzlAzoC0S2fA30DhnPzqLVBb0JTkNkC/1xI0eV4vovqEPfcemn/C0k9fN1iJa\n",
       "7VzaN5xQACNMsj0fxObfJCaLF9yrDHLFFE86U19FDg/yHk85+KfZHm2pA46OZN7y9g33Sig8erBx\n",
       "VKDtMoQhg/2CEiDhhb5GAnCVP8LwoD4Iw6c94w5MwhiSAShNKg8mItZrvt8ZiEjsTZXivAfqUptw\n",
       "ljDFbobKb3YMRR4JYtpBislngPUQtwm/HTPZhiYuDgH5NKeQ98EOFJxNb6inffRHJzCjykPx9xJF\n",
       "vjwy6uyHX6MtOWhWD5SbepaVsep+3K52Osqljhpv2Wm7y7uB0e0R9+6VndCl1r/Q4fhwsWkRrJZm\n",
       "YLVx0G3S0skmVW5i1oTzl/YUkl/vTe6RCloZ8HPabM0JEB2dNY3bzo5hnhIjNYMBg0OHNtoUq33m\n",
       "C1MAcDXDmV6kFbORDkKt8c6RmJuvaRLBJVkJeJRz3wewKlHBPYM73KWvlYPb2moDGR4UO/wkEBAJ\n",
       "OHlDd7LtHq6LGLG83vNyLi5D9k3fh80q/KU5kMSxyoNwxasA/rqM1HhNVe54q11TZ4BhQC8BNvuc\n",
       "Z7HyAvJ1FbpQ5v6f2UhwfVa86BhcJyALm+ygEzYJVqvCYix7u/FxzayVb3qvEq+lDCFX6kXA+5wW\n",
       "RAUZiXGoJy+rX0Iv1ExmPwI3/DHAAAl4dsEAAAU5QZohbEEP/qpVAC8JvGAKAj5KkJvDXS1mViZ3\n",
       "zNwxYOwYrCvtvkWCzdPBTsU4MQ63yXogasAeRtb2KnHIoUoKZUJLoI9utMHsUbiJL2DTY2NkXl1T\n",
       "ayXazNzulrOgMgqLXTJAobPPL+4dZlfsDvVCxxfdjl2QjUq0Ao/2ktE3+DhujLxcwu6G6y/zStil\n",
       "7CItTPLZO/8TA1EHJQ43bLF/NBirDQQ15DDTfLFqB1z7+xtHIusr+2+TcCnkJj6OujE3EMZiTfUs\n",
       "p62DmhFwRwAxcUqPwR817sprT+btcRJOsjOu92SYsaTK0PS9+0P2l8oIytyK6heZvfwbiC9TvLwC\n",
       "5TCyj9ZjDuP14o5RKADHXjQ4WsOq1XD2cHvquDERPGm2mmkc5ZSxu6eNyAEmeghQAkir7UDipfPX\n",
       "uoxSZ2Kpw906xXjDKPeI7lqBurHNq8v8EgZDPDux4Y3cJOID9aYViuExI/IP/adO2IGaJHOGEexg\n",
       "i9ioR6genwpJIG2YgOy38fIMVRYd8PYgn9RoOSlsEt6YndWYOtMyIGEVzGiQ4wKTL2eXvtlyUZg5\n",
       "4VVSCtLf31htxLzHS+eFb1H2jsfCxBH5X70QluG0QyMeOtUY4xgvSlUzoQG3CI4PhkmAGoCbC6Q1\n",
       "6PFBlNZM5/6nflTHDbx3hZw60uELnEKqWF7O9NVAo0AQ0JsAtg0SPMgU8P09xaQmEwIGCP/w8DB/\n",
       "DQFWwQN24LjnVvJZPoq2QYzhmd+b5IUw8PJCHmxGd9s8Ho+d4FXxyb1KkiaKZxaCil5xoP8LvpCl\n",
       "4S8WGC/XwbkP9c15gCxzrJvB2VL0tBwyypb3MMuPIp0NqCG2J5MX0Vf6ggt4aguHOpxEO5Hme5FM\n",
       "xA6U6f9pamAW5DduXS7eC6kQsGXQwtGZkeKsp6jYNP/ozL2MZfGAsdUdBy0hQ5lNiI56nLiMjCBU\n",
       "5qPXwM/z5BeuhJT/ysSn8Z9u8QMeVbyo0A0NCGBxzTV7wJGZMaO1DVo/Aq2nChEK1QwRwPFyiZ/r\n",
       "baK/FH5LUFmjApl/TnIfx70+EQ3ax4cNbJYFgD8uKapB6acaOm+J+X8iAaxEifKPzor1tLqD1JiC\n",
       "lDioMXTsoPHINzIrmrzIb9iCgEGX6aG4djK7t2ioakOtJ0b4EZ/Pnhz3pifAwGetIsduDq2azyfh\n",
       "8XzggjkFSwhLZoCi6LMAYLmwep/NdoerGsc24TvD/+jUVudIy3WXoTaOtmbSb6GdT3vdnP5YK/jI\n",
       "gWatNqvonvWdm4whfDvcDtH/q6q1QIrAVUOFkOAWNw/M/Ytth89xRHO45AuY2a/kNl0OWK313Vka\n",
       "KQoQg5Ol8oCMvLo53SyLTd5BBLPPrXFAOACxSbJ8FcrgSa5xADLu+eV6IxkX0Nrju2z7/IEtlN9V\n",
       "bMfl9IPKFMHMGOcn7l04EPzuvbS4F2V8Q5Dq5Id2ZXuvSAJvYO/dc81IgLIe+SnhULApohkcFqaC\n",
       "82GHSY/fTvn+zAW0Ie4kPt9KAJqXNhWoMrTTD+mbVWavusyI9jvWAZ/KR0ecGLBfFheUp9tjZi70\n",
       "rNZvU3Vc1wyecVQ7uE0GDZzmhUwzMtuAAPh7nhCYVNnZ2El1bWjNsqD5Nz+Oa8b9Dr7lTCxkRqcd\n",
       "3qbsksX1MmYgdM45Hto4KX7nvphYVcw+bvCjwUh5qrFgGx1yAADSYAY0OAQseZMLcrDo2MJAZydV\n",
       "EvHoT+NcyEiv6l8uFpo6TdUiq81Yl3qa9SK212tyvu+ygZuScipbLfwL9X9ebh7kK4wEbJ1YqaAA\n",
       "AAXFQZpFPCGTKYQ///6plgATA/JYAcZESc7XNEDRppgUItaitsb4ElOpUmRnz8aBK85Luhhubnnf\n",
       "/6Jtd8q55bt9pa1/i5hXumvBSh9h4RPbQZ05vdna0P4sdXMtc/8+Xrzj0gjR4xq7NEkjoTGcZNnv\n",
       "NR3CtRFBa7e4rEkBvk2dnFdzfWvtUoCj0q4lkB1HmsuKpk4NAwjUquWptt0vx6rno247hnL/sC0R\n",
       "mGxwkY9X7h1C/JDzwJsXUbS104STO7BnCDnxjiJhC5pAVYaP1VZ3HEuswSjGTlFK4gxZDfn5ROJd\n",
       "1ALjxSMndQB0yyD/Ntkd2O2HlixoiKQHn6Fbj7oX3kAAsH1QC4Ezc/dyyDM/CHS0bvx600BbB1Wl\n",
       "7TOeSL9CLflzav3PpiFEKcX93zhqRzI6wOantHfT6Q/08/UxhZXKX7SNs+VueZBxcRw/9QHYB8i1\n",
       "HK3VCX/KiJaxcvxKr4wkjiDoJNwtiMCYkF2fkGz51BOEBG8qFWrWzAWIYr5LerFVN2n720oT0YKf\n",
       "/G0qc6t+e5dw+lo8mYyi5FDHH9bP+FNKHaa7h82tH5rD3Ak5+s19h0lqApNyTsGkqEdQ1RaABCiY\n",
       "6BYaP9hoCZBYhB940hiYpsFx1MrPUQaKwwPoPsDR/RNNE6QSjL677gPXTZi71d3nR7208dLoE6Ua\n",
       "zr92s+/iEEcGvWmcXEG0xI0XkcoJAq7Y9ew8TsZAl2ECQWbtj9eRQCZ1Y1Od/j7Ii9QtmakQ8Qwi\n",
       "73qde7iPs0nzoAvppajxxwWiBBfDB1Czfs/L/NShZoOXPkzflqJpoKYiqTiWK/N800uWktBSVgR3\n",
       "5UlOkbahdiQnLU95QNpsijP+atqtsOxUrXjyQoOngMXkIwKqlvzxN9smQGsqMSdn7coRrt0Lf9G3\n",
       "m4cRBJXcQY9FBl8uvoNRu4oOPNa1rUWbuHTDMo0DI7HYwXFq+vfu3eCu+bGZT1+t1RhIBbwYyk+M\n",
       "USUvdCnFyWIZd6FLV34FrBi//0gZbvUBiBTyIn3bNSyvZdzz4JPdbqPPyxJR1YKPAJgbpyXRVcgh\n",
       "D9DS45mMzm+b0XueDwS8vJZDCnEc+cStfJG04c2vg4Dqz0GPF9oHGXiG1DBG7TVRCCT9uZX1QiS3\n",
       "Dm/hGeU8C6GdbJ/6cff0fTTVSLRlEUYz3DPL6f4yiGv5U5Qone7mWPdg0VcD4qGYVnNzPDFj+f8P\n",
       "6SKfKLKgCheWGdDNnYIv/dJYFWvAGfY6hoCYV9aj/+ZlMwUAAsl8+YMFmPtHpT0DLaSY8YPTXCnk\n",
       "eTYjxRiO9S/sKVfoqz2EbtK3hSm1307CA566teupOdcHvZOsKYW2Y9MUrI6qXtuB0et9ZsOIbEj/\n",
       "/DqQCKGY3Oxu/jct1MEd8ouhvwiUXkY1p0OA8fNucNXyumMN4T9crgR91lYKQIQSTjdVOw+Fom3j\n",
       "N4m1YwfaRhq80EpmSxRl/O1ln67iQM84qmpBkSy+hRGujOrQQZMhEE7pgFccG6m28N9Vpyuj1/g1\n",
       "RAhtg0ArBgR+TfBWeqYEdHCqq4LirLu8eG6IWAhlvhud8Jgu3a4eDWGU7nxR7AKL2GRqbrDklw46\n",
       "k/XjNMmS6Skh554jvCYq4KtY7jAk9/vkuAgLvyBIBWXBxNyPz27IQdoOuTMStRkRtOr+tIhXW5cE\n",
       "Jjgu4oZPCWPMl7lNVhi8VuqFHLU6xoWmY3aXJ5JVs0OkUaRC/v+9qPjeQt9Ih5EgZx/VdJzCFkKx\n",
       "IiHvT37aJaC+1Dl6HoZ//33mpJ46n/2Mc1fJV8Xr5aTj7GUefABkSSEbtfkVuJM8v9GTIiYVbE9q\n",
       "MtC2UHDpIn+TsUdq3oeINFmIb91V16yqczoXNHvJBKEf4ia7fqlTEzfQwX2v1yBTeAryv+Alkgqx\n",
       "RIZ1l1XBJJhdX+ZAkoX4fN+pWgAxGPIHqWiWJgXkUdvj5bpHFzsMlDVYX+fv5gAK+jpYGAAB4QAA\n",
       "A+tBnmNqU8O/AAmEfrH/Sa0g7vB6vIjRPYQAiDUMFdaezYbbiS5dorbCs4NmI2H5nYKM3mf83Z4L\n",
       "VCQrVCGYDitezy5ktvHtPwkx90bpDdDzV8mziRQC9bo96KaQWh3nBq+JO85p2l2bS59giNfjNVvl\n",
       "Cb7VpIBkXHDzBYIpOZ1M2m27rJVQCodRf9EtJ6tXDUEjyEpSLJc9RWqOaYu2ZPmaOO+OPm3QX2Y+\n",
       "7k2g/UdhqoXW2dCM+BfVNV0V+CAAKUsdUtkIL7nbcaYL80VCs4BemzrVAjBTJ8OEwzNUV2E4ajlD\n",
       "DqoTDjtZsepWNJ5NRVjE3m9SqeQhbZSGm0A2AzE3Mm9uVOEfE/eikhZW8mtQuamd5vLdkCVf/Paq\n",
       "CBMfLNVIODmrk0FkO+KroZIaukuq73mOONXwGI6FO3OM6+xahXfSpOgwWvbgGdlbqgXMYJ/RINfd\n",
       "inV04OoIvMKXS/mA59FCgutFIZw4AwVuAqxqH7+OkuiLrfYDSK7VG0llLRiBqQABgdBD1JWewQRh\n",
       "ytdYnM0SgA9qJw11PDZEuqJOgORO/P2DyIPL7YV0PkNYXCFKH/+YeSWwDkceEvjJCEj8x9kAUm9M\n",
       "xWE/tBV+C3XKlw5eODf6xcJpNRXyGBvj5LBDRSmOW2Kw2BVcHu3pDadLQvNM/A4Fy6ggqPzdLZ39\n",
       "mEoM/CO3XJ7rMJelFFi4aS/jVg8+L3VZiQi6RM+Fu8hQVuiHhqDsFxlnxsYf2c7+5QDvB0t1GWHz\n",
       "UHHVsXFa0b1SMI1X3fk4xzoB47JRnnFOwbL+qzIk0QOXH3S1EvWBoT2q2IusQGJqpWfQPQ0PQrcG\n",
       "Kv5MTT73EbEMWo3hhXJTt0OaCZNInW4Kdn+Af4z1bJooOTZpz2QGQkzdKhgKq6eNCuhGQTnUU73p\n",
       "n8OpAXNjWBkpAP+j3U0kSkPAOS+OQXop78pVWcJgzmNnwsgstQnHQxA2AV1CFkZpYhe8N8w4Rqtx\n",
       "3NMMOo2WzrxOA7ugntV+AxizXO3t48ysF8bXA4oVUchKfcHe9+j66UimoH831ufnFUdYuLgTGeOm\n",
       "F+R0FUX/wDnSp2piDYfQ+ImDNFyBln7Cr86p2Vs+YeEj5h7SevOojlE7kkchb7GicmNs8/7paOIY\n",
       "8coAwPWlml9F8N5dQglSj7lxLhTthmktL+GV+kz1RmQPGBtcBI3pO6RUlA3PUAACNE9byC++U2D3\n",
       "npqyeX8JxGQ84MHGvw83lmPsNmoqM5x22N5eNPpNOUArAfIs+93Aj0e+MhB4V1b2ECp5tht5N/BM\n",
       "tJih4h99U3fFk1CoGjd3vcaFRy9Xuo79zPFBr9P5csKEAG9AAAAEwAGegnRDfwAGcQmanrxfRAAR\n",
       "B7vlwHWVp1q5njZBhrpBsUZ/f/zhnOqQLp/GR91RNns06yrDudkRftxZLzcTAUCij2TT1rePVl8w\n",
       "4ohJdt9XjzVsph4PiI4YJZeMeM77anabwnA0MVjQTlZKD/aKr+vUdVDW5cVKKlGMkjwOd75fpULq\n",
       "wigUrkMrI4gaGc6GTI/UVZ2A0lsofB1AKi6yToqSALJe4TbgYVnpjGM/ZkgcfgIwrQnYO4Kj9EgC\n",
       "lQLNf71PK0sEsbfqQ6nh4zzZrw2K48ds1l1BwTZQimb9oWJEhejLE/lJa7PGxY2hLwfBMJXI8GFr\n",
       "kwGL4NU7O6Dgwizac+pxKvXGztjw2ODJsMzdI5RiDlgPb/8mdaTSNModMxTbH+//QzTaS9DRkeGG\n",
       "NpFRHA8uCctUS1U9pmxFxDxv3WlZBZW1Zl87/O7icyi3B7oHzPyxqWJmQa/QejM8rZONnJylquAB\n",
       "M7IIgzGSNmtzwZVQVquHNRW/hm6xt4+B4jt7Oezt0v0qt4kc5werap0MWLJmdZY5DVBAR1QIOUuj\n",
       "QpV4Be5jKwrJeYYe9tbhcl82FtS07i3pIAZp7kC/mUHoqqdMo34BUD/FPQ7A6YNp0M4egXdBvChD\n",
       "be+jFE8lO7i02owL5aLZHJ7FPmOx7JAcoQX4CEHWrcG/qoS2wsPTUFpyWs2zUrnw/ywCQcWFlS7I\n",
       "qKElWjsx7ANSsRNSc9boJNzqoBnyIrqxlOa+SZ644L6FMwRPnjCycGanehPuqe0ALWZv2PRgp+FU\n",
       "/Pf0fSpffUiGWGbVA8aWt3sLNkv8DJcZTczxIb7Dl1eOvoDcWfP9HcVLUgda62ozIHOk8tAb1rrm\n",
       "tXGYbtjml2nNRmfo/ihb7EBY/sP3UoaQm5gFdKQnPlh09w2/yfJ0CqRsVXOFQku+ToZFJIAKDU+B\n",
       "XZMQuk46BkLrRcTcuJ5vO6AzNsK2qj2U/7DaKor37rdVOEhGDKMMJj3uLVexJ8MRT8zBwz/LznSc\n",
       "TQgHMDfHY7vaKNY8VS9T68javQuP6a10DAzeZJh7om6OEHCwm1qIysX+5PgX2ZbWGT3yzx9BNao7\n",
       "Y+WzCbXF65HwqgWmogBv4J7A4/aN1Q/ZJVaBPokSryDWI4xP04NbPtddPz9kctAtfpPH96Nd3//+\n",
       "4yuSlrpbQNXjah+GEtJVuOcFTQmcZWC+BZNYXAHE0+EP2NKAzF0lOPSLj8GQgjUsLGyCdcLHyQ39\n",
       "p/ea6AyUZwCjl6i0IlE0TKfGblsHkWbD0fU6GZthJhb9isHi4rGHZfKvycxsL6si1Oi4To76O1mB\n",
       "YD30J34Q6OMtfsbh39Xe9pUNNew6rlFFEc9T1pBKxSOZEFwG1iDkeGpimjJ2zcPvIGIuIlw6Gulr\n",
       "qO2j9QxlLbZGrjCI5sE+w0hwJYai4y4u7xyq/TsFGpfnQjmgzxA/Nc6/XTN7V9bI6Xytv0ZKIHkF\n",
       "sG/+oxEUJ+QzSUU0NEIdK2k/Vu32DQdAbQ/AopslzXijo+/8doYTgscChfFhK0G1RwcqLF89yK/B\n",
       "Joh5c8gbXb2umLuAiz/yasMYlVrX4DWQW9MrvKAktvWs7b/vlDQVBMV/OZMcAESeAdiTpoipkqAA\n",
       "KCEAAAKiAZ6EakN/AA1YPVs+n9CABD6KlCMZp5hHSCl48ampjUTxB3gjYr0u3cUwlOJ+57zSgbgO\n",
       "s9LJd8gtHzmWBVlQGv4qC9nPbUdE29WWfrjNJ6Cpj6HCka9dRpAa+W7AA2Cmo2mg0kXNN1+KAZ3y\n",
       "137mqg5LKzJq5Qyc8IWpwJ4jBappg/mOgmf4vbwXc2RfNbHAnRAkxZZBftil1oippt377angw6NA\n",
       "yX03QQZu4tkAupr5YZrvGCUfBfaOEEZ3s/B2SFPoIwgkqBnSc2Z7c8M6oOaNfPfeB1hd9gUgQ1zK\n",
       "IJpunxlC0/4uztwZ7EKRDH35eGOXpzcOoD4BKu4j5vMAalPRXra1YHnW4UzyxAJuM+PmswEmxwcU\n",
       "zvaURA1vb22Hxr2738X99++JN4Fxuso0/t7ZXvHYESgM7adV0KQLyw4kwukd2KlkdEUuksMcpApk\n",
       "PgaSMCzf9828LoJkiuU3I44/d9c+AF+LBGaK4JHXjVrj/ouAZmUgIKZtj/Jo1wwGPm7MDAx+lQIV\n",
       "MZLCqeVPtsOkIQlJuhZPLS+jAu7yxqGOjE/8OrzrNSjPWUzvSlEfq6Nv7cebNcd7tsgvr3fgMx66\n",
       "Mb0vkDOaN4cjWFZNiARhJG0/MqbJeACXJZ0AqjBHaAH29GcJTN1S3Tu+7F4VaVpB0Poev63RKSA/\n",
       "gLrL00MDtinSKXZK9oBZt16Z1tmSSz51z5xBnL4vL8NbKRPPwugIlpDol7FUJxQP+5lrdGMdYtdh\n",
       "74KnFD65+QvFcHTJneobrqes6S7n7/ZqqqbwmAEG5AqFbKSac+r6FcxcdnCL325AbxG4sZrKV0md\n",
       "Oi3IlMAB2uv72aKqV+6koXZzhPUbAIFJNK6fDoUYAkq6rGDLGnsYfyV+/a1cNpGzAbgAb0EAAAQ+\n",
       "QZqGSahBaJlMCH///qmWABOD5qgBYLVTHbE3shJ8syayw9tTZ4JC+adXpJYFj8zIyPoLni4f5/K/\n",
       "uP5OaIo6nkWqlGJeEPjRiNYPgjv7KSuvPGemONqSDWzUe+lTF1wJ6pfLoqAVABN7nQuKCFntxYN8\n",
       "i2hRFso/rAlZy//4fHLmV+oqjFiiqhbawvF8WzhX5iRTllmP/nZ7zK6EzwOpk5OL7sQ+zvz2hIIj\n",
       "OWkdng+AdhpxFhwWpuokxuirhEBzECHiOqcxBwwnI88t44L1qSq/uwdU6IAB2kd6b2ucIoOpdF1M\n",
       "yT3mgXI1yunj7nfo/mkv4Rlp0UJKuCMd7kWRRCHq03YUG/7sC+Ty9X+GrTGA7btCvksilxMYM5Ez\n",
       "fzqgZuefBvLb6qq3eMPRrXIu5H3FBsoXwHet44qkWp8H7s2XQefOQ1aUo9pUMB8yCww1pONGcHI1\n",
       "cWQrrKoIJ01h3erjo7de3/9Yqa6ZxbRcrbH7PNQlgoWCkdGpZxeJL2SmYaxBGl7+FqHsezru7Fk+\n",
       "6EGrq0d0z+liHmVOBpf+XBVlqYI0lMBbIjZ+TZlEA8h9pgoYJtyjP9LlQefJ9JB8pu7BmvqulULF\n",
       "0uGl4HN7HiM49s82nq7cnZOWD7N+GeQeZO/foQOD1w7VToZc8VA1rose6WXYjxk1AGMzmXK7SuAI\n",
       "vC2uw/Dg8pU/bSKVri7CN7bs5bqp/Ny7t/BrswEnMpr/rKJkzxXjhZ8AAW57s7lhuJ+JvMZcveDj\n",
       "JrIsscQuHKevgyVRcu3qYMIp1rK7MXrzP2g7qkytrWRQCNINJeJuTvvwHUfrdTzjy8JL5TxkC8Du\n",
       "do2+FBFTvnpHU+A0e8vLDKtpOfInVLtFppLaASkhwqbfiiJ8tUycMYAuXKu3TEY2xDq7x2BK/YLy\n",
       "c4/2ENit3vl+Y9bcoqpY6nGLHQbicky0wsSXusbQvxmeha0mvV2mKVaxI2Amji529TTuj5omRSiV\n",
       "3z5Ea/raK41VyjRFaGs+gcXJDjrNyGZNlY9YRq1RoYQPxe2BkTluo4UgoqEixp0lRKbn4AOMNNDt\n",
       "U5V76Yuc+1W+bOyoQH9IGQgUFuKylIOSzk+yLb2H59iyFHQIHGjuFVopYlqH8k9u//QlyDmsyFRb\n",
       "9GJmPEe8SwE0EL5uU3Am9uShSxzjactpUQgib1FXj7Cc1uaa4FCECQiYI3kI3DZN2Zm8kq+++8q8\n",
       "yCa2U2wTIZjPI14vWHXVPpDUA7ae72KsPfNHTTZe3FSCMj75aDJ1HD7/SsThZtKYAJ7uiIhOsEHF\n",
       "CVzcA9/tOBGb5E8QWJFtzclwujJJebH3QFXbK4GjZLxC1ZwUqY8FkbhUR4fn6OphKFm6zRweLzAp\n",
       "DFcpzzay+ZPkXIyFGESR0P2XeZrTc0n773gA38V0BEkbKpYakCfdFrdMq/8nL5esfsrQLH3XiINo\n",
       "kl3BAAADp0Gap0nhClJlMCCH//6qVQAFA8+tABGV4Z2Jv0VB90YMloIKtzGarvH2Pro0fcBOKQ8L\n",
       "WSWu46LJtADMI0zFJAHA53zxD3tUrFnKx1qHj6LZgBGDeutUd6O22RgJxJ23aYdc+wlWCeb0trXy\n",
       "E0vK7dEqabmgf0DQF7LDTlXBsxkoLXcZsLbsozrN3OddwuT1NJugJSeCNGds+MbIRFzYb6v33z2F\n",
       "f4jCk3QigPKGNv+tJt4rwjef/dNxg+ku5HP3HmIhwzuxHfFeuDtyGMnQL1DNAHN5YFd0FdG2zhtA\n",
       "KKWGjgC+gW/w74KdJ6L3E2wQ+l2IRkt7IJp8L1syNtMJnTXBmZ3Mf4+o+6nwlCnqtas0UifYRc90\n",
       "12+xA48REatKEuy1RpCeJbEydGGuoo4attTkeAAZMibixEVr8RFb91AXLLREc4cYL6FxdaIOOaWT\n",
       "55Z4vm4trOOu+E8aG5bw8XdN/+AAT6jJ+WL/RpsRrVNy/7QPOPFJiW3l/CmV6ZDvpR6zc/JG2Jf3\n",
       "3KLAHn4JzuEz6d5ZH7vcHcUnHzbos9wVvQHkz9QvKC8y9LZYO5e9jeUQ6pL8LVt9n5noT85ggLlY\n",
       "O+lk+COa/HY+svu3z1Pya8ygxec0idadHETG8fl4+4NHq/wMSgagiyHcv5Cd3B51RpHcE85QC7su\n",
       "CvSUHH+tBYJ3H1CivlQf1wfDBazipTwliyIJP7V7P2QhmR5HTAB6Ei87eGyT3N1Yod/Mqk90fQs3\n",
       "bhtjCKB0WTpk2KrFdZmMfZjOM3mN5h6h3/clZoUiSgxQl7sgxhpO63g4loldKNILslUT9kuM0ans\n",
       "/xzRFwSL7kvCcpkl+ryj4thfUWwl8qLMz8U1FfSPawA24yDGYgiaveGE+ohtnjJ/fANPA0z5lp4P\n",
       "Ooy9Jjl9Bw3YFN0IL6/fMBrcTEu/IpFwpUSNiCsXY34JAVJzAktiy3tc4pMF6T6fQ/VN3YDheo5o\n",
       "4RlpX/nGoBjMSrq8OPAbK+HoELCW6Wz1DBU3I3BKHco4Fa+DFzwjbEZH3WV5On7GaIjyIAHROYr9\n",
       "I4iQ6cObf3ly713WtDEq3BrbXLn5ImSNk87ILWnDTbPeMcZQuOEkK9WvBty9cfu5Sf9OIRQlmWzt\n",
       "O/xNMsjhLNiSfrSKgXvYYJ5tQHEBVESZFH0ykTigW1yP2opdxEvCzalJTDjRs0/0D9dTnY+400Bo\n",
       "dktWqbLKb+Rg6pSNPMsWq8f9aDnwPrAJE6YQADQhAAACO0GayEnhDomUwIIf/qpVAAUDzIGAImvO\n",
       "SpXDjXFT+KGqTruNomJK/jSPMZqil8COKa+LsLg6xKEPfsKCSymHz+A6zSKiOOMzt3F2RzaELNbr\n",
       "pvXVpZJcJUbq960RkwTAG+fMbscpjKPMhsU9dDfWnP6keDJarU5WOwJyJ4xZ0wJgsqp5DE0+zn9F\n",
       "PDw+HNTr70opIwBsqbvWgsf1UKjP0FnJTmSlRfa4lBrRsNeFL9BTbtVyv5QhfM7R9MPTEBkOHEth\n",
       "9P4wN8ur64Ii/ZqnrixzZZFJbpo+R2z2A6j5+JGfebPm/v0wTsDzMg7cA5YHQeKCuon+rUoS2rpA\n",
       "KqG+0qwSEqujsWai2Zuqc6Bxx7xYaTQ1JLbm5njRVgQ8rDY5flxnHWsqBOcfAeGjHNakkn9ZM0YJ\n",
       "T9oAzztts5kQheQoSHjTR6+dA4VmGhCp8P5g6ulNlOCu08oTA4dUIjo/H+Ym3RTcwJK2KGG+XK1v\n",
       "ulvStuaU0uZF05k9vqhgne3IC1GdQxKUN7UpLKWQCKgHkVaNPcTXZep0v2HpVJUqT3yNNi8v50Vt\n",
       "8OaAVpDrpKrAH80r3xclPblvCmn7fTgOtALoAwp/MYLhlkbkWz2R07Y+3LEQt+qcPXPivccAHqIq\n",
       "9aOf11F/pQwd7BLw0KgtLEnuTFk0G5iYLQndYnlcJnxOBNiSqjFeFAKMweff79rPQNX5Mn3fF1yn\n",
       "USzdaWmnhvxHExDkLiyJIF+kDVvEBagnlWEk2kzBs9QAi4AAAAHdQZrpSeEPJlMCCP/+tSqAAoJS\n",
       "ywALaRmYvvypz70BuGTrnHwyeEENBUVVKt+uvvgsmY48RaRvR1mDZAHGdSCC0HJmxNLHsngyXwz1\n",
       "FhPcU/OTVKPXyXHf7OVj8l1ucF1H/lBngP5Jb2ag2mxMHB7tCo7LwGEzYlqIOyWA+Ngcxr4AWHWY\n",
       "SQoohsjX+LWRaw5CBvAEn42J9XS456BWLpxBF/4/i6yrikjhMEykBbNGrbWZrakVzYb0magIGVkC\n",
       "wjHoNLtLFLVkj54kLxEJ5whsi98veLhFo9NCKEVOdDOcW3AaZv1weKmHesr5bMIwOZWQRwYz0qUp\n",
       "VS3fs7yUOn2skGGgmZK1VQrkazxVJrVAg9sJoUPgcIoRD4ampVQA0WQCw+7GALaI3oPVVaBk00xr\n",
       "HofsWAL504He50b6AAglGm1mOajuxAA9KqYxKT+PPPGJop27CGRp7tkAYpHZmM5yZgOaCtW9kGCH\n",
       "YELWUuagWFYkSd/DucKTnyh0DjvRWGBzRFPjm6jVZv8QFhcVPPlPIcR7r6dTAPMlnG7CSzpew67a\n",
       "2mc30aiKCD8F9cva3Zlq/0LoPchL3KJs/456pL0jGrKDyxmlSDbgqA5LAN83GCz00VwEWKUZDlfa\n",
       "GAFJAAABe0GbDUnhDyZTAgh//qpVAATi6iaAALdPDHDX9Jpf/nk3uEhXtVpAB4wJ2n0Nc+wKi3sf\n",
       "GJ1KwyAzBvaIYNiPzd8K7Ik9ksjD5entzP4xL1SdHC7hk6gvbq4Ydqz6E0fuM2B3ZLdr+wohw80N\n",
       "IAC1wuERON/fjqSZfuVxqjP69GsZQ1SXYvYDHVtttjNfCUq9+iMFvmWnoXhm3DjX3V6IzNi3VAsY\n",
       "xgm89YfGBXVOyCUmBBUkzRFoIplFWqOz8iZbMSmHdg1FvRB8S70wys6os0nGq3jYB4fQ3ZUNpfaE\n",
       "M0mN3Uq76AjJiQMgTDjN1LSmoYUF0VL7iCUcuDkRcOS724VHE3eID2Z7tFiG4wGEmtUfiFGGebeh\n",
       "qWuZrz+DBeywGyRDTdWKBBjN3/8zzztmOocnwB7nLR2iOeJwp84Q4ZmLiplAiOIt+FH8xSE1Inuv\n",
       "BT5VkVbXDpjHkq6Ga+/nr2FUJS/ov+cRXW8MSf8lnD42bn+cBqTq9sFwBB0AAABEQZ8rRRE8O/8A\n",
       "CYSAK8FG/8bFCRRPUmHEjLn6OoN5I3jDRTixJy7qwz0sq8/3fr9HABMkMd/7vFi/zNoh8BKy/pgA\n",
       "h4AAAAAZAZ9KdEN/AAa/rAu0Ne3cqtg0vGvB0wAD7gAAABsBn0xqQ38ADTKa4utn00HbMh9ZrfHU\n",
       "cRAAAgcAAADcQZtRSahBaJlMCH///qmWABOD5qgAnWPSmj93FPhF/DInFajNql8M/a/OmDdi8/5+\n",
       "Zow2GdFsQj/gUUPef+vQfA9RRSpb7hkWI7gu93kuDOowUQ5yfJauFlvcGniXr3ZRn5VK2yDDorwQ\n",
       "3yLEoGSbqJc12h4OIddZ6KL0mI2UQMc1Nu6WK1/ZPhhbz3ul0ZfYhAaZP4NxUosggITv8t11tB4/\n",
       "fAADLXeoLVM6AAhuNyiZs0TAIaoWOozFmNRpVbFOPrjknOyD0ELcZ0E+lSmpzHjPDGA4Wz1SJgCb\n",
       "gQAAACVBn29FESw7/wAJw5RUnMT3riClMX/buXygDu8N2rKINcT1gALbAAAAGAGfjnRDfwANz1hb\n",
       "Zcx+ASh3YJA/c7AXcAAAABcBn5BqQ38ABud4FJP2TEOmvHXmluD7gAAAAEVBm5NJqEFsmUwUTDf/\n",
       "/qeEACWmQVwAhT3ePaQ/fI6CSbfS0BNuBak8jW9YTDXV3BPSy3f9F/HGLJo13YcXan1VGugAvIEA\n",
       "AAAdAZ+yakN/AAcVSkWyXbVU2koK/1VlCRspK1QAJeAAAAP/bW9vdgAAAGxtdmhkAAAAAAAAAAAA\n",
       "AAAAAAAD6AAAB9AAAQAAAQAAAAAAAAAAAAAAAAEAAAAAAAAAAAAAAAAAAAABAAAAAAAAAAAAAAAA\n",
       "AABAAAAAAAAAAAAAAAAAAAAAAAAAAAAAAAAAAAAAAAAAAgAAAyl0cmFrAAAAXHRraGQAAAADAAAA\n",
       "AAAAAAAAAAABAAAAAAAAB9AAAAAAAAAAAAAAAAAAAAAAAAEAAAAAAAAAAAAAAAAAAAABAAAAAAAA\n",
       "AAAAAAAAAABAAAAAAfQAAAGQAAAAAAAkZWR0cwAAABxlbHN0AAAAAAAAAAEAAAfQAAAIAAABAAAA\n",
       "AAKhbWRpYQAAACBtZGhkAAAAAAAAAAAAAAAAAAAoAAAAUABVxAAAAAAALWhkbHIAAAAAAAAAAHZp\n",
       "ZGUAAAAAAAAAAAAAAABWaWRlb0hhbmRsZXIAAAACTG1pbmYAAAAUdm1oZAAAAAEAAAAAAAAAAAAA\n",
       "ACRkaW5mAAAAHGRyZWYAAAAAAAAAAQAAAAx1cmwgAAAAAQAAAgxzdGJsAAAAtHN0c2QAAAAAAAAA\n",
       "AQAAAKRhdmMxAAAAAAAAAAEAAAAAAAAAAAAAAAAAAAAAAfQBkABIAAAASAAAAAAAAAABAAAAAAAA\n",
       "AAAAAAAAAAAAAAAAAAAAAAAAAAAAAAAAAAAAGP//AAAAMmF2Y0MBZAAW/+EAGWdkABas2UCAM+fh\n",
       "AAADAAEAAAMAFA8WLZYBAAZo6+PLIsAAAAAcdXVpZGtoQPJfJE/FujmlG88DI/MAAAAAAAAAGHN0\n",
       "dHMAAAAAAAAAAQAAABQAAAQAAAAAFHN0c3MAAAAAAAAAAQAAAAEAAACQY3R0cwAAAAAAAAAQAAAA\n",
       "AgAACAAAAAABAAAUAAAAAAEAAAgAAAAAAQAAAAAAAAABAAAEAAAAAAQAAAgAAAAAAQAAFAAAAAAB\n",
       "AAAIAAAAAAEAAAAAAAAAAQAABAAAAAABAAAUAAAAAAEAAAgAAAAAAQAAAAAAAAABAAAEAAAAAAEA\n",
       "AAwAAAAAAQAABAAAAAAcc3RzYwAAAAAAAAABAAAAAQAAABQAAAABAAAAZHN0c3oAAAAAAAAAAAAA\n",
       "ABQAAB9TAAAFPQAABckAAAPvAAAExAAAAqYAAARCAAADqwAAAj8AAAHhAAABfwAAAEgAAAAdAAAA\n",
       "HwAAAOAAAAApAAAAHAAAABsAAABJAAAAIQAAABRzdGNvAAAAAAAAAAEAAAAsAAAAYnVkdGEAAABa\n",
       "bWV0YQAAAAAAAAAhaGRscgAAAAAAAAAAbWRpcmFwcGwAAAAAAAAAAAAAAAAtaWxzdAAAACWpdG9v\n",
       "AAAAHWRhdGEAAAABAAAAAExhdmY1OC4xMi4xMDA=\n",
       "\">\n",
       "  Your browser does not support the video tag.\n",
       "</video>"
      ],
      "text/plain": [
       "<matplotlib.animation.FuncAnimation at 0x7ff41a2fcb00>"
      ]
     },
     "execution_count": 14,
     "metadata": {},
     "output_type": "execute_result"
    }
   ],
   "source": [
    "fig = plt.figure(dpi=100, figsize=(5, 4))\n",
    "plt.scatter(x,y)\n",
    "line, = plt.plot(x,lin(a_guess,b_guess,x))\n",
    "plt.close()\n",
    "\n",
    "def animate(i):\n",
    "    line.set_ydata(lin(a_guess,b_guess,x))\n",
    "    for i in range(30): upd()\n",
    "    return line,\n",
    "\n",
    "ani = animation.FuncAnimation(fig, animate, np.arange(0, 20), interval=100)\n",
    "plt.show()"
   ]
  },
  {
   "cell_type": "code",
   "execution_count": null,
   "metadata": {},
   "outputs": [],
   "source": []
  }
 ],
 "metadata": {
  "kernelspec": {
   "display_name": "Python 3",
   "language": "python",
   "name": "python3"
  },
  "language_info": {
   "codemirror_mode": {
    "name": "ipython",
    "version": 3
   },
   "file_extension": ".py",
   "mimetype": "text/x-python",
   "name": "python",
   "nbconvert_exporter": "python",
   "pygments_lexer": "ipython3",
   "version": "3.6.6"
  }
 },
 "nbformat": 4,
 "nbformat_minor": 1
}
